{
 "cells": [
  {
   "cell_type": "code",
   "execution_count": null,
   "id": "f04efa81",
   "metadata": {},
   "outputs": [
    {
     "name": "stdout",
     "output_type": "stream",
     "text": [
      "enter person name: Shreya\n",
      "enter color : blue\n",
      "enter food name : chinese\n",
      "enter aa adjective name: calm\n",
      "enter a thing name : tie\n",
      "enter place : switzerland\n",
      "enter verb : happy\n",
      "enter adverb : happier\n",
      "enter food name: chinese\n",
      "enter a thing name : catch\n",
      "Today we picked apple from Shreya's Orchard. I had no idea there were so many different varieties of apples. I ate blue apples straight off the tree that tested like chinese. Then there was a calm apple that looked like a tie.When our bag were full, we went on a free hay ride to switzerland and back. It ended at a hay pile where we got to happy happier. I can hardly wait to get home and cook with the apples. We are going to make appple chinese and catch pies!.\n"
     ]
    }
   ],
   "source": [
    "#Creating a display window\n",
    "from tkinter import *\n",
    "root = Tk()\n",
    "root.geometry('300x300')\n",
    "root.title('DataFlair-Mad Libs Generator')\n",
    "Label(root, text= 'Mad Libs Generator \\n Have Fun!' , font = 'arial 20 bold').pack()\n",
    "Label(root, text = 'Click Any One :', font = 'arial 15 bold').place(x=40, y=80)\n",
    "def madlib1():\n",
    "\n",
    "    animals= input('enter a animal name : ')\n",
    "    profession = input('enter a profession name: ')\n",
    "    cloth = input('enter a piece of cloth name: ')\n",
    "    things = input('enter a thing name: ')\n",
    "    name= input('enter a name: ')\n",
    "    place = input('enter a place name: ')\n",
    "    verb = input('enter a verb in ing form: ')\n",
    "    food = input('food name: ')\n",
    "    print('say ' + food + ', the photographer said as the camera flashed! ' + name + ' and I had gone to ' + place +' to get our photos taken on my birthday. The first photo we really wanted was a picture of us dressed as ' + animals + ' pretending to be a ' + profession + '. when we saw the second photo, it was exactly what I wanted. We both looked like ' + things + ' wearing ' + cloth + ' and ' + verb + ' --exactly what I had in mind')\n",
    "\n",
    "\n",
    "def madlib2():\n",
    "   \n",
    "    adjactive = input('enter adjective : ')\n",
    "    color = input('enter a color name : ')\n",
    "    thing = input('enter a thing name :')\n",
    "    place = input('enter a place name : ')\n",
    "    person= input('enter a person name : ')\n",
    "    adjactive1 = input('enter a adjactive : ')\n",
    "    insect= input('enter a insect name : ')\n",
    "    food = input('enter a food name : ')\n",
    "    verb = input('enter a verb name : ')\n",
    "\n",
    "    print('Last night I dreamed I was a ' +adjactive+ ' butterfly with ' + color+ ' splocthes that looked like '+thing+ ' .I flew to ' + place+ ' with my bestfriend and '+person+ ' who was a '+adjactive1+ ' ' +insect +' .We ate some ' +food+ ' when we got there and then decided to '+verb+ ' and the dream ended when I said-- lets ' +verb+ '.')\n",
    "\n",
    "\n",
    "def madlib3():\n",
    "\n",
    "    person = input('enter person name: ')\n",
    "    color = input('enter color : ')\n",
    "    foods = input('enter food name : ')\n",
    "    adjective = input('enter aa adjective name: ')\n",
    "    thing = input('enter a thing name : ')\n",
    "    place = input('enter place : ')\n",
    "    verb = input('enter verb : ')\n",
    "    adverb = input('enter adverb : ')\n",
    "    food = input('enter food name: ')\n",
    "    things = input('enter a thing name : ')\n",
    "   \n",
    "    print('Today we picked apple from '+person+ \"'s Orchard. I had no idea there were so many different varieties of apples. I ate \" +color+ ' apples straight off the tree that tested like '+foods+ '. Then there was a '+adjective+ ' apple that looked like a ' + thing + '.When our bag were full, we went on a free hay ride to '+place+ ' and back. It ended at a hay pile where we got to ' +verb+ ' ' +adverb+ '. I can hardly wait to get home and cook with the apples. We are going to make appple '+food+ ' and '+things+' pies!.')\n",
    "    Button(root, text= 'The Photographer', font ='arial 15', command= madlib1, bg = 'ghost white').place(x=60, y=120)\n",
    "Button(root, text= 'apple and apple', font ='arial 15', command = madlib3 , bg = 'ghost white').place(x=70, y=180)\n",
    "Button(root, text= 'The Butterfly', font ='arial 15', command = madlib2, bg = 'ghost white').place(x=80, y=240)\n",
    "\n",
    "root.mainloop()"
   ]
  },
  {
   "cell_type": "code",
   "execution_count": null,
   "id": "db5d07f8",
   "metadata": {},
   "outputs": [],
   "source": []
  }
 ],
 "metadata": {
  "kernelspec": {
   "display_name": "Python 3 (ipykernel)",
   "language": "python",
   "name": "python3"
  },
  "language_info": {
   "codemirror_mode": {
    "name": "ipython",
    "version": 3
   },
   "file_extension": ".py",
   "mimetype": "text/x-python",
   "name": "python",
   "nbconvert_exporter": "python",
   "pygments_lexer": "ipython3",
   "version": "3.9.13"
  }
 },
 "nbformat": 4,
 "nbformat_minor": 5
}
